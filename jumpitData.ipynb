{
 "cells": [
  {
   "cell_type": "code",
   "execution_count": 1,
   "metadata": {},
   "outputs": [],
   "source": [
    "from selenium import webdriver\n",
    "from selenium.webdriver.chrome.options import Options\n",
    "from selenium.webdriver.common.keys import Keys\n",
    "from selenium.webdriver.common.by import By\n",
    "from selenium.webdriver.support.ui import WebDriverWait\n",
    "from selenium.webdriver.support import expected_conditions as EC\n",
    "from selenium.webdriver.common.action_chains import ActionChains\n",
    "from tqdm import tqdm_notebook\n",
    "import pandas as pd\n",
    "import time\n"
   ]
  },
  {
   "cell_type": "code",
   "execution_count": 2,
   "metadata": {},
   "outputs": [],
   "source": [
    "# 브라우저 꺼짐 방지 옵션\n",
    "chrome_options = Options()\n",
    "chrome_options.headless=True\n",
    "chrome_options.add_experimental_option(\"detach\", True)\n"
   ]
  },
  {
   "cell_type": "code",
   "execution_count": 3,
   "metadata": {},
   "outputs": [],
   "source": [
    "def scroll_down(driver):\n",
    "    last_element = None  \n",
    "    while True:\n",
    "        url_raw = driver.find_elements(By.CSS_SELECTOR, 'div.sc-d609d44f-0.grDLmW a') \n",
    "        if not url_raw: \n",
    "            break\n",
    "        if last_element == url_raw[-1]:  \n",
    "            return url_raw\n",
    "        last_element = url_raw[-1]  \n",
    "        ActionChains(driver).move_to_element(last_element).perform()\n",
    "        time.sleep(1)  "
   ]
  },
  {
   "cell_type": "code",
   "execution_count": 4,
   "metadata": {},
   "outputs": [
    {
     "name": "stdout",
     "output_type": "stream",
     "text": [
      "{'종료': 0, '전체': 1, '서버/백엔드 개발자': 2, '프론트엔드 개발자': 3, '웹 풀스택 개발자': 4, '안드로이드 개발자': 5, 'iOS 개발자': 6, '크로스플랫폼 앱개발자': 7, '게임 클라이언트 개발자': 8, '게임 서버 개발자': 9, 'DBA': 10, '빅데이터 엔지니어': 11, '인공지능/머신러닝': 12, 'devops/시스템 엔지니어': 13, '정보보안 담당자': 14, 'QA 엔지니어': 15, '개발 PM': 16, 'HW/임베디드': 17, 'SW/솔루션': 18, '웹퍼블리셔': 19, 'VR/AR/3D': 20, '블록체인': 21, '기술지원': 22}\n",
      "51\n"
     ]
    }
   ],
   "source": [
    "driver = webdriver.Chrome(options=chrome_options)\n",
    "driver.set_window_size(1900, 1000)\n",
    "# 웹페이지가 로드될 때까지 2초를 대기\n",
    "driver.implicitly_wait(time_to_wait=2)  \n",
    "\n",
    "# 원티드드 사이트로 이동합니다.\n",
    "driver.get(url='https://jumpit.saramin.co.kr/positions?career=0&sort=rsp_rate')\n",
    "driver.implicitly_wait(3)\n",
    "develope_oc=driver.find_elements(By.CLASS_NAME, 'sc-b966f376-8.cZxZKh')\n",
    "Occupation_list={\"종료\":0}\n",
    "for i in range(len(develope_oc)):\n",
    "    Occupation_list[develope_oc[i].text]=i+1\n",
    "print(Occupation_list)\n",
    "time.sleep(1)\n",
    "while True:\n",
    "    input_occupation=input('직군선택: ')\n",
    "    if input_occupation == '종료':\n",
    "        break\n",
    "    occupation=Occupation_list[input_occupation]\n",
    "    driver.find_element(By.XPATH, f'/html/body/main/div/section/section/div[1]/button[{occupation}]/span').click()\n",
    "time.sleep(1)\n",
    "scroll_down(driver)\n",
    "url_raw=scroll_down(driver)\n",
    "url_list, location_list=[],[]\n",
    "for url in url_raw:\n",
    "    try:\n",
    "        link = url.get_attribute(\"href\")  \n",
    "        url_list.append(link)\n",
    "        location = url.find_element(By.CSS_SELECTOR, \"ul.sc-15ba67b8-1.cdeuol li:first-child\").text\n",
    "        location_list.append(location)\n",
    "    except:\n",
    "        pass\n",
    "print(len(url_list))\n",
    "\n"
   ]
  },
  {
   "cell_type": "code",
   "execution_count": 5,
   "metadata": {},
   "outputs": [
    {
     "name": "stderr",
     "output_type": "stream",
     "text": [
      "C:\\Users\\User\\AppData\\Local\\Temp\\ipykernel_2944\\1257182975.py:7: TqdmDeprecationWarning: This function will be removed in tqdm==5.0.0\n",
      "Please use `tqdm.notebook.tqdm` instead of `tqdm.tqdm_notebook`\n",
      "  for n in tqdm_notebook(range(len(url_list)),desc=\"진행률\"):\n"
     ]
    },
    {
     "data": {
      "application/vnd.jupyter.widget-view+json": {
       "model_id": "441c5077a7204ee18ea270799af743c1",
       "version_major": 2,
       "version_minor": 0
      },
      "text/plain": [
       "진행률:   0%|          | 0/51 [00:00<?, ?it/s]"
      ]
     },
     "metadata": {},
     "output_type": "display_data"
    },
    {
     "name": "stdout",
     "output_type": "stream",
     "text": [
      "0 인공지능(AI) 엔지니어 신입 채용\n",
      "1 ML Engineer - Speech Processing (신입)\n",
      "2 [전문연구요원]AI연구엔지니어-LLM\n",
      "3 딥러닝, AI(컴퓨터비전) 분야 응용 프로그래머 채용(전문연구요원)\n",
      "4 Localization Engineer (Junior, 신입)\n",
      "5 ML Engineer (Junior & Senior)\n",
      "6 [전문연구요원]AI엔지니어-DocumentAI\n",
      "7 AI(딥러닝) 연구 및 개발 채용\n",
      "8 [병역특례]ML Engineer -전문연구요원\n",
      "9 디지털헬스케어 플랫폼 AI 엔지니어\n",
      "10 이미지 프로세싱 알고리즘 라이브러리(2D,3D,AI 딥러닝) 개발 신입 채용\n",
      "11 AI/LLM Curriculum Developer\n",
      "12 AI 개발자 연구원 신입\n",
      "13 ADAS NPU AI SW Engineer\n",
      "14 AI Research Engineer - LLM\n",
      "15 AI 최적화 Researcher 채용\n",
      "16 AI Research Engineer - Document AI\n",
      "17 Artificial Intelligence Researcher 채용\n",
      "18 Runtime 소프트웨어 엔지니어 채용\n",
      "19 LLM Researcher (경력 5년이하)\n",
      "20 Document AI Researcher (경력 3년이하)\n",
      "21 코덱 SW 엔지니어 (알고리즘 개발/신입)\n",
      "22 임베디드 AI 개발자 (C++)\n",
      "23 Vision AI Application Engineer\n",
      "24 임베디드 AI 개발자 (병역특례)\n",
      "25 코덱SW엔지니어 (화질분석/신입)\n",
      "26 Model Compression Research (병역특례)\n",
      "27 Model Compression Research Engineer\n",
      "28 LLM Research Engineer\n",
      "29 실내 내비게이션 연구/개발(전문연구요원가능)\n",
      "30 Vision AI Application Engineer(병역특례)\n",
      "31 LLM Research Engineer (병역특례)\n",
      "32 언어모델 딥러닝 개발자 (신입)\n",
      "33 ML 엔지니어/Researcher 채용\n",
      "34 AI 컴파일러 엔지니어 채용\n",
      "35 Generative AI 및 인공지능 유지 관리 연구\n",
      "36 Data 엔지니어 - Junior (대전 근무)\n",
      "37 지식기반 AI 챗봇 주니어급 채용\n",
      "38 딥러닝 음성인식 개발자 주니어급 채용\n",
      "39 임베딩 모델 개발자 주니어급 채용\n",
      "40 AI 모델(sLLM)개발자 주니어급 채용\n",
      "41 2D/3D Detection, Vision Inspection Engineer\n",
      "42 Data Scientist (경력 무관)\n",
      "43 미생물 BI Research Scientist (박사급) (신입~3년)\n",
      "44 [AI연구소] AI연구원 - Computer Vision AI\n",
      "45 [신입]영상처리/rPPG 연구개발 석박사\n",
      "46 AI 엔지니어 모집\n",
      "47 컴퓨터 비전 딥러닝/머신러닝 (신입)\n",
      "48 AI엔지니어 채용\n",
      "49 알고리즘 개발자 신입 채용\n",
      "50 알고리즘 개발_UE파트 연구원~책임급 채용\n"
     ]
    }
   ],
   "source": [
    "driver = webdriver.Chrome(options=chrome_options)\n",
    "driver.set_window_size(1900, 1000)\n",
    "# 웹페이지가 로드될 때까지 2초를 대기\n",
    "driver.implicitly_wait(2)\n",
    "data_dict={}\n",
    "\n",
    "for n in tqdm_notebook(range(len(url_list)),desc=\"진행률\"):\n",
    "    data_info={}\n",
    "    Main_task, qualifications, Preferred_Qualifications=None, None, None\n",
    "    driver.get(url_list[n])\n",
    "    driver.implicitly_wait(2)\n",
    "    try:\n",
    "        driver.find_element(By.CLASS_NAME, 'sc-52a3e76a-0 frGwWL').click()\n",
    "    except:\n",
    "        pass\n",
    "    driver.implicitly_wait(2)\n",
    "    title = driver.find_element(By.CLASS_NAME, 'sc-923c3317-0.jIWuEG h1').text\n",
    "    explanation_things=driver.find_elements(By.CLASS_NAME, \"sc-e76d2562-1.eALIki\")\n",
    "    explanation_detail=driver.find_elements(By.CSS_SELECTOR, \"dl.sc-e76d2562-0.jqzywl dd pre\")\n",
    "    for i in range(len(explanation_things)):\n",
    "        if explanation_things[i].text == '주요업무':\n",
    "            Main_task=explanation_detail[i].text\n",
    "        elif explanation_things[i].text == '자격요건':\n",
    "            qualifications=explanation_detail[i].text\n",
    "        elif explanation_things[i].text == '우대사항':\n",
    "            Preferred_Qualifications=explanation_detail[i].text\n",
    "    skills=[]\n",
    "    try:\n",
    "        skill_element = driver.find_elements(By.CSS_SELECTOR, 'div.sc-9db2de1-0.hMgXwE img')\n",
    "        for skill in skill_element:\n",
    "            skills.append(skill.get_attribute('alt'))\n",
    "    except:\n",
    "        skills=None\n",
    "    \n",
    "    data_info['title']=title\n",
    "    data_info['location']=location_list[n]\n",
    "    data_info['Main_task']=Main_task\n",
    "    data_info['qualifications']=qualifications\n",
    "    data_info['Preferred_Qualifications']=Preferred_Qualifications\n",
    "    data_info['skills']=skills\n",
    "    data_info['url']=url_list[n]\n",
    "    \n",
    "    data_dict[n]=data_info\n",
    "    time.sleep(0.5)\n",
    "    print(n,title)\n",
    "    \n"
   ]
  },
  {
   "cell_type": "code",
   "execution_count": 6,
   "metadata": {},
   "outputs": [],
   "source": [
    "import pandas as pd\n",
    "\n",
    "csv_file = \"wanted.csv\"\n",
    "wanted_df = pd.read_csv(csv_file)\n",
    "jumpit_df = pd.DataFrame.from_dict(data_dict, 'index')\n",
    "final_df = pd.concat([wanted_df, jumpit_df], ignore_index=True)\n",
    "final_df.to_csv(\"datasets.csv\", index=False)\n"
   ]
  },
  {
   "cell_type": "code",
   "execution_count": 7,
   "metadata": {},
   "outputs": [
    {
     "data": {
      "text/plain": [
       "112"
      ]
     },
     "execution_count": 7,
     "metadata": {},
     "output_type": "execute_result"
    }
   ],
   "source": [
    "len(final_df)"
   ]
  },
  {
   "cell_type": "code",
   "execution_count": 8,
   "metadata": {},
   "outputs": [
    {
     "data": {
      "text/html": [
       "<div>\n",
       "<style scoped>\n",
       "    .dataframe tbody tr th:only-of-type {\n",
       "        vertical-align: middle;\n",
       "    }\n",
       "\n",
       "    .dataframe tbody tr th {\n",
       "        vertical-align: top;\n",
       "    }\n",
       "\n",
       "    .dataframe thead th {\n",
       "        text-align: right;\n",
       "    }\n",
       "</style>\n",
       "<table border=\"1\" class=\"dataframe\">\n",
       "  <thead>\n",
       "    <tr style=\"text-align: right;\">\n",
       "      <th></th>\n",
       "      <th>title</th>\n",
       "      <th>location</th>\n",
       "      <th>Main_task</th>\n",
       "      <th>qualifications</th>\n",
       "      <th>Preferred_Qualifications</th>\n",
       "      <th>skills</th>\n",
       "      <th>url</th>\n",
       "    </tr>\n",
       "  </thead>\n",
       "  <tbody>\n",
       "    <tr>\n",
       "      <th>0</th>\n",
       "      <td>[신입] 머신러닝 엔지니어 (LLM)</td>\n",
       "      <td>서울 서초구</td>\n",
       "      <td>• 데이터를 분석하고 풀어야 할 문제를 정의합니다.\\n• 동료들과 더 나은 LLM ...</td>\n",
       "      <td>• LLM(Fine tuning 포함) 또는 NLP 모델의 학습 경험이 있는 분\\n...</td>\n",
       "      <td>• 다양한 분야의 데이터를 다룬 경험이 있는 분\\n• AI Agent 활용 경험이 ...</td>\n",
       "      <td>[]</td>\n",
       "      <td>https://www.wanted.co.kr/wd/264181</td>\n",
       "    </tr>\n",
       "    <tr>\n",
       "      <th>1</th>\n",
       "      <td>[카카오계열사]Prompt Engineer</td>\n",
       "      <td>서울 강남구</td>\n",
       "      <td>• LLM 프롬프트 최적화 및 엔지니어링: 다양한 LLM(GPT, Claude, G...</td>\n",
       "      <td>• 해외여행 결격사유가 없는 분\\n• LLM 및 NLP 실무 경험: LLM 또는 자...</td>\n",
       "      <td>ML 기반 서비스 개발 또는 백엔드 개발 경험\\n• ML 기반 서비스 개발 경험: ...</td>\n",
       "      <td>['Python', 'NLP']</td>\n",
       "      <td>https://www.wanted.co.kr/wd/264121</td>\n",
       "    </tr>\n",
       "    <tr>\n",
       "      <th>2</th>\n",
       "      <td>Google Cloud Platform Solutions Engineer</td>\n",
       "      <td>서울 강남구</td>\n",
       "      <td>• GCP 클라우드 아키텍처 설계 및 기술 컨설팅 수행\\n• 고객사 클라우드 마이그...</td>\n",
       "      <td>• 클라우드 환경에서의 프로젝트 경험 보유 (토이 프로젝트 포함)\\n• Genera...</td>\n",
       "      <td>• Generative AI 프로젝트 경험자\\n• AI/ML 프로젝트 수행 경험 또...</td>\n",
       "      <td>[]</td>\n",
       "      <td>https://www.wanted.co.kr/wd/263995</td>\n",
       "    </tr>\n",
       "    <tr>\n",
       "      <th>3</th>\n",
       "      <td>코덱SW엔지니어 (화질분석/신입)</td>\n",
       "      <td>서울 강남구</td>\n",
       "      <td>[다음 업무를 통해 목표를 달성하고 성장합니다]\\n• 영상처리, 동영상 압축 알고리...</td>\n",
       "      <td>[이런분과 함께하고 싶어요]\\n• 전자, 컴퓨터공학 학사 이상\\n• C, Pytho...</td>\n",
       "      <td>[이런분이라면 더욱 환영해요]\\n• 비디오 압축 혹은 영상 처리 관련 연구 수행 및...</td>\n",
       "      <td>['Linux', 'Java', 'Python', 'C', 'C++']</td>\n",
       "      <td>https://www.wanted.co.kr/wd/174091</td>\n",
       "    </tr>\n",
       "    <tr>\n",
       "      <th>4</th>\n",
       "      <td>코덱SW엔지니어 (알고리즘개발/신입)</td>\n",
       "      <td>서울 강남구</td>\n",
       "      <td>[이런분과 함께하고 싶어요]\\n• 영상처리, 동영상 압축 등 멀티미디어 처리 기술개발</td>\n",
       "      <td>[이런분이라면 더욱 환영해요]\\n• 전자, 컴퓨터공학 학사 이상\\n• C/C++ 능...</td>\n",
       "      <td>[더 몰입하실 수 있도록 도와드려요]\\n• 비디오 압축 혹은 영상 처리 관련 연구 ...</td>\n",
       "      <td>['Linux', 'Java', 'Python', 'C', 'C++']</td>\n",
       "      <td>https://www.wanted.co.kr/wd/174088</td>\n",
       "    </tr>\n",
       "  </tbody>\n",
       "</table>\n",
       "</div>"
      ],
      "text/plain": [
       "                                      title location  \\\n",
       "0                      [신입] 머신러닝 엔지니어 (LLM)   서울 서초구   \n",
       "1                   [카카오계열사]Prompt Engineer   서울 강남구   \n",
       "2  Google Cloud Platform Solutions Engineer   서울 강남구   \n",
       "3                        코덱SW엔지니어 (화질분석/신입)   서울 강남구   \n",
       "4                      코덱SW엔지니어 (알고리즘개발/신입)   서울 강남구   \n",
       "\n",
       "                                           Main_task  \\\n",
       "0  • 데이터를 분석하고 풀어야 할 문제를 정의합니다.\\n• 동료들과 더 나은 LLM ...   \n",
       "1  • LLM 프롬프트 최적화 및 엔지니어링: 다양한 LLM(GPT, Claude, G...   \n",
       "2  • GCP 클라우드 아키텍처 설계 및 기술 컨설팅 수행\\n• 고객사 클라우드 마이그...   \n",
       "3  [다음 업무를 통해 목표를 달성하고 성장합니다]\\n• 영상처리, 동영상 압축 알고리...   \n",
       "4    [이런분과 함께하고 싶어요]\\n• 영상처리, 동영상 압축 등 멀티미디어 처리 기술개발   \n",
       "\n",
       "                                      qualifications  \\\n",
       "0  • LLM(Fine tuning 포함) 또는 NLP 모델의 학습 경험이 있는 분\\n...   \n",
       "1  • 해외여행 결격사유가 없는 분\\n• LLM 및 NLP 실무 경험: LLM 또는 자...   \n",
       "2  • 클라우드 환경에서의 프로젝트 경험 보유 (토이 프로젝트 포함)\\n• Genera...   \n",
       "3  [이런분과 함께하고 싶어요]\\n• 전자, 컴퓨터공학 학사 이상\\n• C, Pytho...   \n",
       "4  [이런분이라면 더욱 환영해요]\\n• 전자, 컴퓨터공학 학사 이상\\n• C/C++ 능...   \n",
       "\n",
       "                            Preferred_Qualifications  \\\n",
       "0  • 다양한 분야의 데이터를 다룬 경험이 있는 분\\n• AI Agent 활용 경험이 ...   \n",
       "1  ML 기반 서비스 개발 또는 백엔드 개발 경험\\n• ML 기반 서비스 개발 경험: ...   \n",
       "2  • Generative AI 프로젝트 경험자\\n• AI/ML 프로젝트 수행 경험 또...   \n",
       "3  [이런분이라면 더욱 환영해요]\\n• 비디오 압축 혹은 영상 처리 관련 연구 수행 및...   \n",
       "4  [더 몰입하실 수 있도록 도와드려요]\\n• 비디오 압축 혹은 영상 처리 관련 연구 ...   \n",
       "\n",
       "                                    skills                                 url  \n",
       "0                                       []  https://www.wanted.co.kr/wd/264181  \n",
       "1                        ['Python', 'NLP']  https://www.wanted.co.kr/wd/264121  \n",
       "2                                       []  https://www.wanted.co.kr/wd/263995  \n",
       "3  ['Linux', 'Java', 'Python', 'C', 'C++']  https://www.wanted.co.kr/wd/174091  \n",
       "4  ['Linux', 'Java', 'Python', 'C', 'C++']  https://www.wanted.co.kr/wd/174088  "
      ]
     },
     "execution_count": 8,
     "metadata": {},
     "output_type": "execute_result"
    }
   ],
   "source": [
    "final_df.head()"
   ]
  },
  {
   "cell_type": "code",
   "execution_count": null,
   "metadata": {},
   "outputs": [],
   "source": []
  }
 ],
 "metadata": {
  "kernelspec": {
   "display_name": "Job_Analysis",
   "language": "python",
   "name": "python3"
  },
  "language_info": {
   "codemirror_mode": {
    "name": "ipython",
    "version": 3
   },
   "file_extension": ".py",
   "mimetype": "text/x-python",
   "name": "python",
   "nbconvert_exporter": "python",
   "pygments_lexer": "ipython3",
   "version": "3.12.8"
  }
 },
 "nbformat": 4,
 "nbformat_minor": 2
}
