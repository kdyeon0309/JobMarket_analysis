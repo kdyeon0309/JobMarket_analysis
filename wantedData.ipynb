{
 "cells": [
  {
   "cell_type": "code",
   "execution_count": 35,
   "metadata": {},
   "outputs": [],
   "source": [
    "from selenium import webdriver\n",
    "from selenium.webdriver.chrome.options import Options\n",
    "from selenium.webdriver.common.keys import Keys\n",
    "from selenium.webdriver.common.by import By\n",
    "from selenium.webdriver.support.ui import WebDriverWait\n",
    "from selenium.webdriver.support import expected_conditions as EC\n",
    "from selenium.webdriver.common.action_chains import ActionChains\n",
    "\n",
    "import time\n"
   ]
  },
  {
   "cell_type": "code",
   "execution_count": 2,
   "metadata": {},
   "outputs": [],
   "source": [
    "# 브라우저 꺼짐 방지 옵션\n",
    "chrome_options = Options()\n",
    "chrome_options.headless=True\n",
    "chrome_options.add_experimental_option(\"detach\", True)\n"
   ]
  },
  {
   "cell_type": "code",
   "execution_count": 39,
   "metadata": {},
   "outputs": [],
   "source": [
    "def scroll_down(driver):\n",
    "    last_element = None  \n",
    "    while True:\n",
    "        url_raw = driver.find_elements(By.CSS_SELECTOR, '.JobCard_JobCard__Tb7pI a') \n",
    "        if not url_raw: \n",
    "            break\n",
    "        if last_element == url_raw[-1]:  \n",
    "            return url_raw\n",
    "        last_element = url_raw[-1]  \n",
    "        ActionChains(driver).move_to_element(last_element).perform()\n",
    "        time.sleep(1)  "
   ]
  },
  {
   "cell_type": "code",
   "execution_count": 40,
   "metadata": {},
   "outputs": [
    {
     "name": "stdout",
     "output_type": "stream",
     "text": [
      "{'종료': 0, '소프트웨어 엔지니어': 2, '서버 개발자': 3, '프론트엔드 개발자': 4, '웹 개발자': 5, '자바 개발자': 6, '파이썬 개발자': 7, '머신러닝 엔지니어': 8, 'C,C++ 개발자': 9, '데이터 엔지니어': 10, 'DevOps / 시스템 관리자': 11, 'Node.js 개발자': 12, '안드로이드 개발자': 13, '임베디드 개발자': 14, '시스템,네트워크 관리자': 15, 'QA,테스트 엔지니어': 16, '개발 매니저': 17, '보안 엔지니어': 18, 'iOS 개발자': 19, '데이터 사이언티스트': 20, '기술지원': 21, '하드웨어 엔지니어': 22, '프로덕트 매니저': 23, '빅데이터 엔지니어': 24, '웹 퍼블리셔': 25, '.NET 개발자': 26, '크로스플랫폼 앱 개발자': 27, 'PHP 개발자': 28, '블록체인 플랫폼 엔지니어': 29, '영상,음성 엔지니어': 30, 'DBA': 31, 'ERP전문가': 32, '그래픽스 엔지니어': 33, 'CTO,Chief Technology Officer': 34, '루비온레일즈 개발자': 35, 'BI 엔지니어': 36, 'VR 엔지니어': 37, 'CIO,Chief Information Officer': 38, 'RPA 엔지니어': 39, '테크니컬 라이터': 40}\n",
      "60\n"
     ]
    }
   ],
   "source": [
    "driver = webdriver.Chrome(options=chrome_options)\n",
    "driver.set_window_size(1900, 1000)\n",
    "# 웹페이지가 로드될 때까지 2초를 대기\n",
    "driver.implicitly_wait(time_to_wait=2)  \n",
    "\n",
    "# 원티드드 사이트로 이동합니다.\n",
    "driver.get(url='https://www.wanted.co.kr/wdlist?country=kr&job_sort=job.latest_order&years=0&locations=all')\n",
    "#직군 선택 \n",
    "driver.find_element(By.XPATH, '//*[@id=\"__next\"]/div[3]/div[1]/section/div[1]/section/div/button/span/span[2]').click()\n",
    "driver.find_element(By.XPATH, '//*[@id=\"__next\"]/div[3]/div[1]/section/div[1]/section/div/div/div[2]/div[2]/ul[1]/button[2]').click()\n",
    "develope_oc = WebDriverWait(driver, 3).until(\n",
    "    EC.presence_of_all_elements_located((By.CLASS_NAME, \"SelectItem_SelectItem__IcYKH\"))\n",
    ")\n",
    "Occupation_list={'종료':0}\n",
    "num=2\n",
    "for button in develope_oc:\n",
    "    try:\n",
    "        occupation = WebDriverWait(button, 3).until(\n",
    "            EC.presence_of_element_located((By.CLASS_NAME, \"wds-1c3y3mo\"))\n",
    "        )\n",
    "        Occupation_list[occupation.text]=num\n",
    "        num+=1\n",
    "    except:\n",
    "        pass\n",
    "print(Occupation_list)\n",
    "time.sleep(1)\n",
    "while True:\n",
    "    input_occupation=input('직군선택: ')\n",
    "    if input_occupation == '종료':\n",
    "        break\n",
    "    occupation=Occupation_list[input_occupation]\n",
    "    driver.find_element(By.XPATH, f'//*[@id=\"__next\"]/div[3]/div[1]/section/div[1]/section/div/div/div[2]/div[2]/ul[2]/button[{occupation}]/span').click()\n",
    "driver.find_element(By.XPATH, '//*[@id=\"__next\"]/div[3]/div[1]/section/div[1]/section/div/div/div[2]/div[3]/button[2]/span[2]').click()\n",
    "time.sleep(1)\n",
    "scroll_down(driver)\n",
    "url_raw=scroll_down(driver)\n",
    "url_list=[]\n",
    "for url in url_raw:\n",
    "    try:\n",
    "        link = url.get_attribute(\"href\")  \n",
    "        url_list.append(link)\n",
    "    except:\n",
    "        pass\n",
    "print(len(url_list))\n",
    "\n"
   ]
  },
  {
   "cell_type": "code",
   "execution_count": null,
   "metadata": {},
   "outputs": [],
   "source": []
  },
  {
   "cell_type": "code",
   "execution_count": null,
   "metadata": {},
   "outputs": [],
   "source": []
  },
  {
   "cell_type": "code",
   "execution_count": 41,
   "metadata": {},
   "outputs": [
    {
     "data": {
      "text/plain": [
       "60"
      ]
     },
     "execution_count": 41,
     "metadata": {},
     "output_type": "execute_result"
    }
   ],
   "source": [
    "len(url_raw)"
   ]
  },
  {
   "cell_type": "code",
   "execution_count": null,
   "metadata": {},
   "outputs": [],
   "source": []
  }
 ],
 "metadata": {
  "kernelspec": {
   "display_name": "Job_Analysis",
   "language": "python",
   "name": "python3"
  },
  "language_info": {
   "codemirror_mode": {
    "name": "ipython",
    "version": 3
   },
   "file_extension": ".py",
   "mimetype": "text/x-python",
   "name": "python",
   "nbconvert_exporter": "python",
   "pygments_lexer": "ipython3",
   "version": "3.12.8"
  }
 },
 "nbformat": 4,
 "nbformat_minor": 2
}
